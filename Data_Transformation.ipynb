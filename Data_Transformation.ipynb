{
  "nbformat": 4,
  "nbformat_minor": 0,
  "metadata": {
    "colab": {
      "name": "Data Transformation.ipynb",
      "provenance": [],
      "collapsed_sections": [],
      "authorship_tag": "ABX9TyMDnnOocQSBuvcAF/HI39ka",
      "include_colab_link": true
    },
    "kernelspec": {
      "name": "python3",
      "display_name": "Python 3"
    },
    "language_info": {
      "name": "python"
    }
  },
  "cells": [
    {
      "cell_type": "markdown",
      "metadata": {
        "id": "view-in-github",
        "colab_type": "text"
      },
      "source": [
        "<a href=\"https://colab.research.google.com/github/Anjali-Saravanan/Data-Transformation/blob/main/Data_Transformation.ipynb\" target=\"_parent\"><img src=\"https://colab.research.google.com/assets/colab-badge.svg\" alt=\"Open In Colab\"/></a>"
      ]
    },
    {
      "cell_type": "code",
      "source": [
        "# importing pandas as pd \n",
        "import pandas as pd \n",
        "\n",
        "# Creating the DataFrame \n",
        "df = pd.DataFrame({\"A\":[20, 4, 5, None, 1], \n",
        "\t\t\t\t\"B\":[7, 2, 15, 30, None], \n",
        "\t\t\t\t\"C\":[20, None, 11, 3, 8], \n",
        "\t\t\t\t\"D\":[14, 2, None, 2, 6]}) \n",
        "\n",
        "# Create the index \n",
        "index_ = ['Row_1', 'Row_2', 'Row_3', 'Row_4', 'Row_5'] \n",
        "\n",
        "# Set the index \n",
        "df.index = index_ \n",
        "\n",
        "# Print the DataFrame \n",
        "print(df) "
      ],
      "metadata": {
        "id": "VhAkuwAxDBvj"
      },
      "execution_count": null,
      "outputs": []
    },
    {
      "cell_type": "code",
      "source": [
        "# add 10 to each element of the dataframe \n",
        "result = df.transform(func = lambda x : x + 10) \n",
        "# Print the result \n",
        "print(result) "
      ],
      "metadata": {
        "id": "oygGqr2UDNL6"
      },
      "execution_count": null,
      "outputs": []
    }
  ]
}